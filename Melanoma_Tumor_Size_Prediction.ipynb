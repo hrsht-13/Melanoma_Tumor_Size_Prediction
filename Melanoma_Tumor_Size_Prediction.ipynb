{
  "nbformat": 4,
  "nbformat_minor": 0,
  "metadata": {
    "colab": {
      "name": "Melanoma Tumor Size Prediction.ipynb",
      "provenance": []
    },
    "kernelspec": {
      "name": "python3",
      "display_name": "Python 3"
    }
  },
  "cells": [
    {
      "cell_type": "code",
      "metadata": {
        "id": "5N3q4e4MFg8d",
        "colab_type": "code",
        "colab": {
          "base_uri": "https://localhost:8080/",
          "height": 70
        },
        "outputId": "27f511ba-7f06-43bc-c9d9-f78ecfe96e9b"
      },
      "source": [
        "import pandas as pd\n",
        "import numpy as np\n",
        "import seaborn as sns\n",
        "import matplotlib.pyplot as plt\n",
        "from sklearn.model_selection import cross_val_score"
      ],
      "execution_count": 1,
      "outputs": [
        {
          "output_type": "stream",
          "text": [
            "/usr/local/lib/python3.6/dist-packages/statsmodels/tools/_testing.py:19: FutureWarning: pandas.util.testing is deprecated. Use the functions in the public API at pandas.testing instead.\n",
            "  import pandas.util.testing as tm\n"
          ],
          "name": "stderr"
        }
      ]
    },
    {
      "cell_type": "code",
      "metadata": {
        "id": "5SbWeZgyFoq6",
        "colab_type": "code",
        "colab": {}
      },
      "source": [
        "train=pd.read_csv(\"/content/Train.csv\")\n",
        "test=pd.read_csv(\"/content/Test.csv\")\n",
        "target=train.pop(\"tumor_size\")\n",
        "sub=pd.read_csv(\"/content/sample_submission.csv\")\n",
        "data=pd.concat([train,test],ignore_index=True)"
      ],
      "execution_count": 2,
      "outputs": []
    },
    {
      "cell_type": "code",
      "metadata": {
        "id": "VuhnjR1dLUR1",
        "colab_type": "code",
        "colab": {
          "base_uri": "https://localhost:8080/",
          "height": 185
        },
        "outputId": "6d6625e1-cc63-43a4-b9c4-83fb183d6f4b"
      },
      "source": [
        "data.isnull().sum() , data.shape"
      ],
      "execution_count": 34,
      "outputs": [
        {
          "output_type": "execute_result",
          "data": {
            "text/plain": [
              "(mass_npea         0\n",
              " size_npear        0\n",
              " malign_ratio      0\n",
              " damage_size       0\n",
              " exposed_area      0\n",
              " std_dev_malign    0\n",
              " err_malign        0\n",
              " malign_penalty    0\n",
              " damage_ratio      0\n",
              " dtype: int64, (45730, 9))"
            ]
          },
          "metadata": {
            "tags": []
          },
          "execution_count": 34
        }
      ]
    },
    {
      "cell_type": "code",
      "metadata": {
        "id": "SYC7KAWHLUjx",
        "colab_type": "code",
        "colab": {
          "base_uri": "https://localhost:8080/",
          "height": 195
        },
        "outputId": "648f6cd9-8c4d-4dd2-ad8d-39ee30d9cacf"
      },
      "source": [
        "data.head(5)"
      ],
      "execution_count": 33,
      "outputs": [
        {
          "output_type": "execute_result",
          "data": {
            "text/html": [
              "<div>\n",
              "<style scoped>\n",
              "    .dataframe tbody tr th:only-of-type {\n",
              "        vertical-align: middle;\n",
              "    }\n",
              "\n",
              "    .dataframe tbody tr th {\n",
              "        vertical-align: top;\n",
              "    }\n",
              "\n",
              "    .dataframe thead th {\n",
              "        text-align: right;\n",
              "    }\n",
              "</style>\n",
              "<table border=\"1\" class=\"dataframe\">\n",
              "  <thead>\n",
              "    <tr style=\"text-align: right;\">\n",
              "      <th></th>\n",
              "      <th>mass_npea</th>\n",
              "      <th>size_npear</th>\n",
              "      <th>malign_ratio</th>\n",
              "      <th>damage_size</th>\n",
              "      <th>exposed_area</th>\n",
              "      <th>std_dev_malign</th>\n",
              "      <th>err_malign</th>\n",
              "      <th>malign_penalty</th>\n",
              "      <th>damage_ratio</th>\n",
              "    </tr>\n",
              "  </thead>\n",
              "  <tbody>\n",
              "    <tr>\n",
              "      <th>0</th>\n",
              "      <td>6930.90</td>\n",
              "      <td>2919.02</td>\n",
              "      <td>0.42116</td>\n",
              "      <td>51.8298</td>\n",
              "      <td>9.888294e+05</td>\n",
              "      <td>109.487</td>\n",
              "      <td>2758.76</td>\n",
              "      <td>72</td>\n",
              "      <td>39.3620</td>\n",
              "    </tr>\n",
              "    <tr>\n",
              "      <th>1</th>\n",
              "      <td>15635.70</td>\n",
              "      <td>4879.36</td>\n",
              "      <td>0.31206</td>\n",
              "      <td>223.5500</td>\n",
              "      <td>2.058426e+06</td>\n",
              "      <td>248.881</td>\n",
              "      <td>5952.53</td>\n",
              "      <td>240</td>\n",
              "      <td>22.0253</td>\n",
              "    </tr>\n",
              "    <tr>\n",
              "      <th>2</th>\n",
              "      <td>10376.20</td>\n",
              "      <td>2613.88</td>\n",
              "      <td>0.25191</td>\n",
              "      <td>127.3370</td>\n",
              "      <td>1.434676e+06</td>\n",
              "      <td>160.093</td>\n",
              "      <td>4635.26</td>\n",
              "      <td>73</td>\n",
              "      <td>29.9963</td>\n",
              "    </tr>\n",
              "    <tr>\n",
              "      <th>3</th>\n",
              "      <td>13093.80</td>\n",
              "      <td>4510.06</td>\n",
              "      <td>0.34444</td>\n",
              "      <td>155.4400</td>\n",
              "      <td>1.812195e+06</td>\n",
              "      <td>173.015</td>\n",
              "      <td>5273.87</td>\n",
              "      <td>32</td>\n",
              "      <td>28.1354</td>\n",
              "    </tr>\n",
              "    <tr>\n",
              "      <th>4</th>\n",
              "      <td>7545.21</td>\n",
              "      <td>2882.36</td>\n",
              "      <td>0.38201</td>\n",
              "      <td>85.1237</td>\n",
              "      <td>1.043918e+06</td>\n",
              "      <td>124.414</td>\n",
              "      <td>3263.35</td>\n",
              "      <td>57</td>\n",
              "      <td>35.0200</td>\n",
              "    </tr>\n",
              "  </tbody>\n",
              "</table>\n",
              "</div>"
            ],
            "text/plain": [
              "   mass_npea  size_npear  ...  malign_penalty  damage_ratio\n",
              "0    6930.90     2919.02  ...              72       39.3620\n",
              "1   15635.70     4879.36  ...             240       22.0253\n",
              "2   10376.20     2613.88  ...              73       29.9963\n",
              "3   13093.80     4510.06  ...              32       28.1354\n",
              "4    7545.21     2882.36  ...              57       35.0200\n",
              "\n",
              "[5 rows x 9 columns]"
            ]
          },
          "metadata": {
            "tags": []
          },
          "execution_count": 33
        }
      ]
    },
    {
      "cell_type": "code",
      "metadata": {
        "id": "RrRAesBTLl9M",
        "colab_type": "code",
        "colab": {
          "base_uri": "https://localhost:8080/",
          "height": 185
        },
        "outputId": "7aff53b1-c287-4668-bee9-cea771fe1d16"
      },
      "source": [
        "data.dtypes"
      ],
      "execution_count": 36,
      "outputs": [
        {
          "output_type": "execute_result",
          "data": {
            "text/plain": [
              "mass_npea         float64\n",
              "size_npear        float64\n",
              "malign_ratio      float64\n",
              "damage_size       float64\n",
              "exposed_area      float64\n",
              "std_dev_malign    float64\n",
              "err_malign        float64\n",
              "malign_penalty      int64\n",
              "damage_ratio      float64\n",
              "dtype: object"
            ]
          },
          "metadata": {
            "tags": []
          },
          "execution_count": 36
        }
      ]
    },
    {
      "cell_type": "code",
      "metadata": {
        "id": "y-eesDBXLUhh",
        "colab_type": "code",
        "colab": {
          "base_uri": "https://localhost:8080/",
          "height": 284
        },
        "outputId": "1eb58af6-1ce6-48d7-a53e-546c875431db"
      },
      "source": [
        "data.describe()"
      ],
      "execution_count": 35,
      "outputs": [
        {
          "output_type": "execute_result",
          "data": {
            "text/html": [
              "<div>\n",
              "<style scoped>\n",
              "    .dataframe tbody tr th:only-of-type {\n",
              "        vertical-align: middle;\n",
              "    }\n",
              "\n",
              "    .dataframe tbody tr th {\n",
              "        vertical-align: top;\n",
              "    }\n",
              "\n",
              "    .dataframe thead th {\n",
              "        text-align: right;\n",
              "    }\n",
              "</style>\n",
              "<table border=\"1\" class=\"dataframe\">\n",
              "  <thead>\n",
              "    <tr style=\"text-align: right;\">\n",
              "      <th></th>\n",
              "      <th>mass_npea</th>\n",
              "      <th>size_npear</th>\n",
              "      <th>malign_ratio</th>\n",
              "      <th>damage_size</th>\n",
              "      <th>exposed_area</th>\n",
              "      <th>std_dev_malign</th>\n",
              "      <th>err_malign</th>\n",
              "      <th>malign_penalty</th>\n",
              "      <th>damage_ratio</th>\n",
              "    </tr>\n",
              "  </thead>\n",
              "  <tbody>\n",
              "    <tr>\n",
              "      <th>count</th>\n",
              "      <td>45730.000000</td>\n",
              "      <td>45730.000000</td>\n",
              "      <td>45730.000000</td>\n",
              "      <td>45730.000000</td>\n",
              "      <td>4.573000e+04</td>\n",
              "      <td>45730.000000</td>\n",
              "      <td>45730.000000</td>\n",
              "      <td>45730.000000</td>\n",
              "      <td>45730.000000</td>\n",
              "    </tr>\n",
              "    <tr>\n",
              "      <th>mean</th>\n",
              "      <td>9871.596995</td>\n",
              "      <td>3017.367175</td>\n",
              "      <td>0.302392</td>\n",
              "      <td>103.492433</td>\n",
              "      <td>1.368299e+06</td>\n",
              "      <td>145.638061</td>\n",
              "      <td>3989.755990</td>\n",
              "      <td>69.975071</td>\n",
              "      <td>34.523664</td>\n",
              "    </tr>\n",
              "    <tr>\n",
              "      <th>std</th>\n",
              "      <td>4058.138034</td>\n",
              "      <td>1464.324663</td>\n",
              "      <td>0.062886</td>\n",
              "      <td>55.424985</td>\n",
              "      <td>5.640367e+05</td>\n",
              "      <td>69.999230</td>\n",
              "      <td>1993.574575</td>\n",
              "      <td>56.493443</td>\n",
              "      <td>5.979755</td>\n",
              "    </tr>\n",
              "    <tr>\n",
              "      <th>min</th>\n",
              "      <td>2392.050000</td>\n",
              "      <td>403.500000</td>\n",
              "      <td>0.092500</td>\n",
              "      <td>10.310100</td>\n",
              "      <td>3.194902e+05</td>\n",
              "      <td>31.970400</td>\n",
              "      <td>0.000000</td>\n",
              "      <td>0.000000</td>\n",
              "      <td>15.228000</td>\n",
              "    </tr>\n",
              "    <tr>\n",
              "      <th>25%</th>\n",
              "      <td>6936.680000</td>\n",
              "      <td>1979.045000</td>\n",
              "      <td>0.258740</td>\n",
              "      <td>63.563900</td>\n",
              "      <td>9.535912e+05</td>\n",
              "      <td>94.757500</td>\n",
              "      <td>3165.322500</td>\n",
              "      <td>31.000000</td>\n",
              "      <td>30.424725</td>\n",
              "    </tr>\n",
              "    <tr>\n",
              "      <th>50%</th>\n",
              "      <td>8898.805000</td>\n",
              "      <td>2668.155000</td>\n",
              "      <td>0.300150</td>\n",
              "      <td>87.740800</td>\n",
              "      <td>1.237219e+06</td>\n",
              "      <td>126.176000</td>\n",
              "      <td>3840.170000</td>\n",
              "      <td>54.000000</td>\n",
              "      <td>35.299300</td>\n",
              "    </tr>\n",
              "    <tr>\n",
              "      <th>75%</th>\n",
              "      <td>12126.150000</td>\n",
              "      <td>3786.410000</td>\n",
              "      <td>0.342890</td>\n",
              "      <td>133.646750</td>\n",
              "      <td>1.690920e+06</td>\n",
              "      <td>181.468500</td>\n",
              "      <td>4644.192500</td>\n",
              "      <td>91.000000</td>\n",
              "      <td>38.870800</td>\n",
              "    </tr>\n",
              "    <tr>\n",
              "      <th>max</th>\n",
              "      <td>40034.900000</td>\n",
              "      <td>15312.000000</td>\n",
              "      <td>0.577690</td>\n",
              "      <td>369.317000</td>\n",
              "      <td>5.472011e+06</td>\n",
              "      <td>598.408000</td>\n",
              "      <td>105948.170000</td>\n",
              "      <td>350.000000</td>\n",
              "      <td>55.300900</td>\n",
              "    </tr>\n",
              "  </tbody>\n",
              "</table>\n",
              "</div>"
            ],
            "text/plain": [
              "          mass_npea    size_npear  ...  malign_penalty  damage_ratio\n",
              "count  45730.000000  45730.000000  ...    45730.000000  45730.000000\n",
              "mean    9871.596995   3017.367175  ...       69.975071     34.523664\n",
              "std     4058.138034   1464.324663  ...       56.493443      5.979755\n",
              "min     2392.050000    403.500000  ...        0.000000     15.228000\n",
              "25%     6936.680000   1979.045000  ...       31.000000     30.424725\n",
              "50%     8898.805000   2668.155000  ...       54.000000     35.299300\n",
              "75%    12126.150000   3786.410000  ...       91.000000     38.870800\n",
              "max    40034.900000  15312.000000  ...      350.000000     55.300900\n",
              "\n",
              "[8 rows x 9 columns]"
            ]
          },
          "metadata": {
            "tags": []
          },
          "execution_count": 35
        }
      ]
    },
    {
      "cell_type": "code",
      "metadata": {
        "id": "NWWV-QGgLUfL",
        "colab_type": "code",
        "colab": {
          "base_uri": "https://localhost:8080/",
          "height": 314
        },
        "outputId": "ee247ae3-9d7b-4bd8-afcc-052bf1ab9fd1"
      },
      "source": [
        "data.corr()"
      ],
      "execution_count": 37,
      "outputs": [
        {
          "output_type": "execute_result",
          "data": {
            "text/html": [
              "<div>\n",
              "<style scoped>\n",
              "    .dataframe tbody tr th:only-of-type {\n",
              "        vertical-align: middle;\n",
              "    }\n",
              "\n",
              "    .dataframe tbody tr th {\n",
              "        vertical-align: top;\n",
              "    }\n",
              "\n",
              "    .dataframe thead th {\n",
              "        text-align: right;\n",
              "    }\n",
              "</style>\n",
              "<table border=\"1\" class=\"dataframe\">\n",
              "  <thead>\n",
              "    <tr style=\"text-align: right;\">\n",
              "      <th></th>\n",
              "      <th>mass_npea</th>\n",
              "      <th>size_npear</th>\n",
              "      <th>malign_ratio</th>\n",
              "      <th>damage_size</th>\n",
              "      <th>exposed_area</th>\n",
              "      <th>std_dev_malign</th>\n",
              "      <th>err_malign</th>\n",
              "      <th>malign_penalty</th>\n",
              "      <th>damage_ratio</th>\n",
              "    </tr>\n",
              "  </thead>\n",
              "  <tbody>\n",
              "    <tr>\n",
              "      <th>mass_npea</th>\n",
              "      <td>1.000000</td>\n",
              "      <td>0.906606</td>\n",
              "      <td>0.126285</td>\n",
              "      <td>0.931056</td>\n",
              "      <td>0.998185</td>\n",
              "      <td>0.967531</td>\n",
              "      <td>0.554002</td>\n",
              "      <td>0.651251</td>\n",
              "      <td>-0.898240</td>\n",
              "    </tr>\n",
              "    <tr>\n",
              "      <th>size_npear</th>\n",
              "      <td>0.906606</td>\n",
              "      <td>1.000000</td>\n",
              "      <td>0.502562</td>\n",
              "      <td>0.793143</td>\n",
              "      <td>0.902853</td>\n",
              "      <td>0.908354</td>\n",
              "      <td>0.515929</td>\n",
              "      <td>0.584242</td>\n",
              "      <td>-0.786188</td>\n",
              "    </tr>\n",
              "    <tr>\n",
              "      <th>malign_ratio</th>\n",
              "      <td>0.126285</td>\n",
              "      <td>0.502562</td>\n",
              "      <td>1.000000</td>\n",
              "      <td>0.031230</td>\n",
              "      <td>0.122622</td>\n",
              "      <td>0.200650</td>\n",
              "      <td>0.080064</td>\n",
              "      <td>0.095340</td>\n",
              "      <td>-0.069039</td>\n",
              "    </tr>\n",
              "    <tr>\n",
              "      <th>damage_size</th>\n",
              "      <td>0.931056</td>\n",
              "      <td>0.793143</td>\n",
              "      <td>0.031230</td>\n",
              "      <td>1.000000</td>\n",
              "      <td>0.925707</td>\n",
              "      <td>0.938108</td>\n",
              "      <td>0.485185</td>\n",
              "      <td>0.676919</td>\n",
              "      <td>-0.891766</td>\n",
              "    </tr>\n",
              "    <tr>\n",
              "      <th>exposed_area</th>\n",
              "      <td>0.998185</td>\n",
              "      <td>0.902853</td>\n",
              "      <td>0.122622</td>\n",
              "      <td>0.925707</td>\n",
              "      <td>1.000000</td>\n",
              "      <td>0.961769</td>\n",
              "      <td>0.553729</td>\n",
              "      <td>0.642961</td>\n",
              "      <td>-0.897765</td>\n",
              "    </tr>\n",
              "    <tr>\n",
              "      <th>std_dev_malign</th>\n",
              "      <td>0.967531</td>\n",
              "      <td>0.908354</td>\n",
              "      <td>0.200650</td>\n",
              "      <td>0.938108</td>\n",
              "      <td>0.961769</td>\n",
              "      <td>1.000000</td>\n",
              "      <td>0.538198</td>\n",
              "      <td>0.662584</td>\n",
              "      <td>-0.881973</td>\n",
              "    </tr>\n",
              "    <tr>\n",
              "      <th>err_malign</th>\n",
              "      <td>0.554002</td>\n",
              "      <td>0.515929</td>\n",
              "      <td>0.080064</td>\n",
              "      <td>0.485185</td>\n",
              "      <td>0.553729</td>\n",
              "      <td>0.538198</td>\n",
              "      <td>1.000000</td>\n",
              "      <td>0.347030</td>\n",
              "      <td>-0.521148</td>\n",
              "    </tr>\n",
              "    <tr>\n",
              "      <th>malign_penalty</th>\n",
              "      <td>0.651251</td>\n",
              "      <td>0.584242</td>\n",
              "      <td>0.095340</td>\n",
              "      <td>0.676919</td>\n",
              "      <td>0.642961</td>\n",
              "      <td>0.662584</td>\n",
              "      <td>0.347030</td>\n",
              "      <td>1.000000</td>\n",
              "      <td>-0.637287</td>\n",
              "    </tr>\n",
              "    <tr>\n",
              "      <th>damage_ratio</th>\n",
              "      <td>-0.898240</td>\n",
              "      <td>-0.786188</td>\n",
              "      <td>-0.069039</td>\n",
              "      <td>-0.891766</td>\n",
              "      <td>-0.897765</td>\n",
              "      <td>-0.881973</td>\n",
              "      <td>-0.521148</td>\n",
              "      <td>-0.637287</td>\n",
              "      <td>1.000000</td>\n",
              "    </tr>\n",
              "  </tbody>\n",
              "</table>\n",
              "</div>"
            ],
            "text/plain": [
              "                mass_npea  size_npear  ...  malign_penalty  damage_ratio\n",
              "mass_npea        1.000000    0.906606  ...        0.651251     -0.898240\n",
              "size_npear       0.906606    1.000000  ...        0.584242     -0.786188\n",
              "malign_ratio     0.126285    0.502562  ...        0.095340     -0.069039\n",
              "damage_size      0.931056    0.793143  ...        0.676919     -0.891766\n",
              "exposed_area     0.998185    0.902853  ...        0.642961     -0.897765\n",
              "std_dev_malign   0.967531    0.908354  ...        0.662584     -0.881973\n",
              "err_malign       0.554002    0.515929  ...        0.347030     -0.521148\n",
              "malign_penalty   0.651251    0.584242  ...        1.000000     -0.637287\n",
              "damage_ratio    -0.898240   -0.786188  ...       -0.637287      1.000000\n",
              "\n",
              "[9 rows x 9 columns]"
            ]
          },
          "metadata": {
            "tags": []
          },
          "execution_count": 37
        }
      ]
    },
    {
      "cell_type": "markdown",
      "metadata": {
        "id": "uFMlQ54uLzO7",
        "colab_type": "text"
      },
      "source": [
        "## EDA"
      ]
    },
    {
      "cell_type": "code",
      "metadata": {
        "id": "O5hkLksRLpMy",
        "colab_type": "code",
        "colab": {}
      },
      "source": [
        "def nor(x):\n",
        "  sk=x.skew()\n",
        "  sq=(np.sqrt(x)).skew()\n",
        "  lg=(np.log1p(x)).skew()\n",
        "  return {\"skew\":sk,\"sqrt\":sq,\"log\":lg}"
      ],
      "execution_count": 38,
      "outputs": []
    },
    {
      "cell_type": "code",
      "metadata": {
        "id": "YUxxvdIuLpKO",
        "colab_type": "code",
        "colab": {
          "base_uri": "https://localhost:8080/",
          "height": 841
        },
        "outputId": "38547448-9654-4b17-d721-f3999a16feda"
      },
      "source": [
        "plt.figure(figsize=(17,14))\n",
        "plt.subplot(3,3,1)\n",
        "sns.distplot(data.mass_npea)\n",
        "plt.subplot(3,3,2)\n",
        "sns.distplot(data.size_npear)\n",
        "plt.subplot(3,3,3)\n",
        "sns.distplot(data.malign_ratio)\n",
        "plt.subplot(3,3,4)\n",
        "sns.distplot(data.damage_size)\n",
        "plt.subplot(3,3,5)\n",
        "sns.distplot(data.exposed_area)\n",
        "plt.subplot(3,3,6)\n",
        "sns.distplot(data.std_dev_malign)\n",
        "plt.subplot(3,3,7)\n",
        "sns.distplot(data.err_malign)\n",
        "plt.subplot(3,3,8)\n",
        "sns.distplot(data.malign_penalty)\n",
        "plt.subplot(3,3,9)\n",
        "sns.distplot(data.damage_ratio)"
      ],
      "execution_count": 50,
      "outputs": [
        {
          "output_type": "execute_result",
          "data": {
            "text/plain": [
              "<matplotlib.axes._subplots.AxesSubplot at 0x7f404831f320>"
            ]
          },
          "metadata": {
            "tags": []
          },
          "execution_count": 50
        },
        {
          "output_type": "display_data",
          "data": {
            "image/png": "[encoded data removed]",
            "text/plain": [
              "<Figure size 1224x1008 with 9 Axes>"
            ]
          },
          "metadata": {
            "tags": [],
            "needs_background": "light"
          }
        }
      ]
    },
    {
      "cell_type": "code",
      "metadata": {
        "id": "FBnFWDkIO8rt",
        "colab_type": "code",
        "colab": {
          "base_uri": "https://localhost:8080/",
          "height": 84
        },
        "outputId": "fcc6c5da-d598-43b6-e016-17a37892bfaf"
      },
      "source": [
        "data.columns"
      ],
      "execution_count": 61,
      "outputs": [
        {
          "output_type": "execute_result",
          "data": {
            "text/plain": [
              "Index(['mass_npea', 'size_npear', 'malign_ratio', 'damage_size',\n",
              "       'exposed_area', 'std_dev_malign', 'err_malign', 'malign_penalty',\n",
              "       'damage_ratio'],\n",
              "      dtype='object')"
            ]
          },
          "metadata": {
            "tags": []
          },
          "execution_count": 61
        }
      ]
    },
    {
      "cell_type": "code",
      "metadata": {
        "id": "M7tmsl0_L3q7",
        "colab_type": "code",
        "colab": {
          "base_uri": "https://localhost:8080/",
          "height": 722
        },
        "outputId": "db7e5620-1516-4136-f275-1de57e12fdb4"
      },
      "source": [
        "from IPython.display import display\n",
        "display(print(\"1. mass_npea\"))\n",
        "display(nor(data.mass_npea))\n",
        "display(print(\"2. size_npear\"))\n",
        "display(nor(data.size_npear))\n",
        "display(print(\"3. malign_ratio\"))\n",
        "nor(data.malign_ratio)\n",
        "display(print(\"4. damage_size\"))\n",
        "display(nor(data.damage_size))\n",
        "display(print(\"5. exposed_area\"))\n",
        "display(nor(data.exposed_area))\n",
        "display(print(\"6. std_dev_malign\"))\n",
        "display(nor(data.std_dev_malign))\n",
        "display(print(\"7. err_malign\"))\n",
        "display(nor(data.err_malign))\n",
        "display(print(\"8. malign_penalty\"))\n",
        "display(nor(data.malign_penalty))\n",
        "display(print(\"9. damage_ratio\"))\n",
        "display(nor(data.damage_ratio))"
      ],
      "execution_count": 62,
      "outputs": [
        {
          "output_type": "stream",
          "text": [
            "1. mass_npea\n"
          ],
          "name": "stdout"
        },
        {
          "output_type": "display_data",
          "data": {
            "text/plain": [
              "None"
            ]
          },
          "metadata": {
            "tags": []
          }
        },
        {
          "output_type": "display_data",
          "data": {
            "text/plain": [
              "{'log': 0.13277783894849488,\n",
              " 'skew': 1.0922013818038485,\n",
              " 'sqrt': 0.5990078684955066}"
            ]
          },
          "metadata": {
            "tags": []
          }
        },
        {
          "output_type": "stream",
          "text": [
            "2. size_npear\n"
          ],
          "name": "stdout"
        },
        {
          "output_type": "display_data",
          "data": {
            "text/plain": [
              "None"
            ]
          },
          "metadata": {
            "tags": []
          }
        },
        {
          "output_type": "display_data",
          "data": {
            "text/plain": [
              "{'log': -0.07659414382230043,\n",
              " 'skew': 1.1906519653249468,\n",
              " 'sqrt': 0.5420932327600916}"
            ]
          },
          "metadata": {
            "tags": []
          }
        },
        {
          "output_type": "stream",
          "text": [
            "3. malign_ratio\n"
          ],
          "name": "stdout"
        },
        {
          "output_type": "display_data",
          "data": {
            "text/plain": [
              "None"
            ]
          },
          "metadata": {
            "tags": []
          }
        },
        {
          "output_type": "stream",
          "text": [
            "4. damage_size\n"
          ],
          "name": "stdout"
        },
        {
          "output_type": "display_data",
          "data": {
            "text/plain": [
              "None"
            ]
          },
          "metadata": {
            "tags": []
          }
        },
        {
          "output_type": "display_data",
          "data": {
            "text/plain": [
              "{'log': 0.15951235087970422,\n",
              " 'skew': 1.2251031380799065,\n",
              " 'sqrt': 0.6857948051877383}"
            ]
          },
          "metadata": {
            "tags": []
          }
        },
        {
          "output_type": "stream",
          "text": [
            "5. exposed_area\n"
          ],
          "name": "stdout"
        },
        {
          "output_type": "display_data",
          "data": {
            "text/plain": [
              "None"
            ]
          },
          "metadata": {
            "tags": []
          }
        },
        {
          "output_type": "display_data",
          "data": {
            "text/plain": [
              "{'log': 0.10731821340193755,\n",
              " 'skew': 1.0587669899068137,\n",
              " 'sqrt': 0.5704827230828677}"
            ]
          },
          "metadata": {
            "tags": []
          }
        },
        {
          "output_type": "stream",
          "text": [
            "6. std_dev_malign\n"
          ],
          "name": "stdout"
        },
        {
          "output_type": "display_data",
          "data": {
            "text/plain": [
              "None"
            ]
          },
          "metadata": {
            "tags": []
          }
        },
        {
          "output_type": "display_data",
          "data": {
            "text/plain": [
              "{'log': 0.11882170779416629,\n",
              " 'skew': 1.120759900387105,\n",
              " 'sqrt': 0.6146481212041276}"
            ]
          },
          "metadata": {
            "tags": []
          }
        },
        {
          "output_type": "stream",
          "text": [
            "7. err_malign\n"
          ],
          "name": "stdout"
        },
        {
          "output_type": "display_data",
          "data": {
            "text/plain": [
              "None"
            ]
          },
          "metadata": {
            "tags": []
          }
        },
        {
          "output_type": "display_data",
          "data": {
            "text/plain": [
              "{'log': -0.21246048244341043,\n",
              " 'skew': 20.76264434293341,\n",
              " 'sqrt': 3.88922744635358}"
            ]
          },
          "metadata": {
            "tags": []
          }
        },
        {
          "output_type": "stream",
          "text": [
            "8. malign_penalty\n"
          ],
          "name": "stdout"
        },
        {
          "output_type": "display_data",
          "data": {
            "text/plain": [
              "None"
            ]
          },
          "metadata": {
            "tags": []
          }
        },
        {
          "output_type": "display_data",
          "data": {
            "text/plain": [
              "{'log': -0.5021134141747344,\n",
              " 'skew': 1.682933176719256,\n",
              " 'sqrt': 0.6690790196434717}"
            ]
          },
          "metadata": {
            "tags": []
          }
        },
        {
          "output_type": "stream",
          "text": [
            "9. damage_ratio\n"
          ],
          "name": "stdout"
        },
        {
          "output_type": "display_data",
          "data": {
            "text/plain": [
              "None"
            ]
          },
          "metadata": {
            "tags": []
          }
        },
        {
          "output_type": "display_data",
          "data": {
            "text/plain": [
              "{'log': -0.9176452841856719,\n",
              " 'skew': -0.4726457982840867,\n",
              " 'sqrt': -0.6942170704353294}"
            ]
          },
          "metadata": {
            "tags": []
          }
        }
      ]
    },
    {
      "cell_type": "code",
      "metadata": {
        "id": "ujHG1iQOFv-k",
        "colab_type": "code",
        "colab": {}
      },
      "source": [
        "t=pd.concat([train,test],ignore_index=True)"
      ],
      "execution_count": 67,
      "outputs": []
    },
    {
      "cell_type": "code",
      "metadata": {
        "id": "4WIsuesOMRIl",
        "colab_type": "code",
        "colab": {
          "base_uri": "https://localhost:8080/",
          "height": 77
        },
        "outputId": "c307d86e-fe48-4253-dd4d-d45fcdaffc96"
      },
      "source": [
        "t.head(1)"
      ],
      "execution_count": 68,
      "outputs": [
        {
          "output_type": "execute_result",
          "data": {
            "text/html": [
              "<div>\n",
              "<style scoped>\n",
              "    .dataframe tbody tr th:only-of-type {\n",
              "        vertical-align: middle;\n",
              "    }\n",
              "\n",
              "    .dataframe tbody tr th {\n",
              "        vertical-align: top;\n",
              "    }\n",
              "\n",
              "    .dataframe thead th {\n",
              "        text-align: right;\n",
              "    }\n",
              "</style>\n",
              "<table border=\"1\" class=\"dataframe\">\n",
              "  <thead>\n",
              "    <tr style=\"text-align: right;\">\n",
              "      <th></th>\n",
              "      <th>mass_npea</th>\n",
              "      <th>size_npear</th>\n",
              "      <th>malign_ratio</th>\n",
              "      <th>damage_size</th>\n",
              "      <th>exposed_area</th>\n",
              "      <th>std_dev_malign</th>\n",
              "      <th>err_malign</th>\n",
              "      <th>malign_penalty</th>\n",
              "      <th>damage_ratio</th>\n",
              "    </tr>\n",
              "  </thead>\n",
              "  <tbody>\n",
              "    <tr>\n",
              "      <th>0</th>\n",
              "      <td>6930.9</td>\n",
              "      <td>2919.02</td>\n",
              "      <td>0.42116</td>\n",
              "      <td>51.8298</td>\n",
              "      <td>988829.407</td>\n",
              "      <td>109.487</td>\n",
              "      <td>2758.76</td>\n",
              "      <td>72</td>\n",
              "      <td>39.362</td>\n",
              "    </tr>\n",
              "  </tbody>\n",
              "</table>\n",
              "</div>"
            ],
            "text/plain": [
              "   mass_npea  size_npear  ...  malign_penalty  damage_ratio\n",
              "0     6930.9     2919.02  ...              72        39.362\n",
              "\n",
              "[1 rows x 9 columns]"
            ]
          },
          "metadata": {
            "tags": []
          },
          "execution_count": 68
        }
      ]
    },
    {
      "cell_type": "markdown",
      "metadata": {
        "id": "XI4ePOSoGqxJ",
        "colab_type": "text"
      },
      "source": [
        "### TRANSFORMATION"
      ]
    },
    {
      "cell_type": "code",
      "metadata": {
        "id": "kxOjcy2TF4Y1",
        "colab_type": "code",
        "colab": {}
      },
      "source": [
        "t.mass_npea=np.sqrt(t.mass_npea)"
      ],
      "execution_count": 69,
      "outputs": []
    },
    {
      "cell_type": "code",
      "metadata": {
        "id": "i93lDfz3GtQS",
        "colab_type": "code",
        "colab": {}
      },
      "source": [
        "t.size_npear=np.log1p(t.size_npear)\n",
        "size=np.log1p(t.size_npear)"
      ],
      "execution_count": 70,
      "outputs": []
    },
    {
      "cell_type": "code",
      "metadata": {
        "id": "tgi9r3hAGtOR",
        "colab_type": "code",
        "colab": {}
      },
      "source": [
        "t.malign_ratio=np.log1p(t.malign_ratio)"
      ],
      "execution_count": 71,
      "outputs": []
    },
    {
      "cell_type": "code",
      "metadata": {
        "id": "JzKuUs0LJTRB",
        "colab_type": "code",
        "colab": {}
      },
      "source": [
        "t.damage_size=np.sqrt(t.damage_size)"
      ],
      "execution_count": 72,
      "outputs": []
    },
    {
      "cell_type": "code",
      "metadata": {
        "id": "kW2wcqkMJTPL",
        "colab_type": "code",
        "colab": {}
      },
      "source": [
        "t.exposed_area=np.sqrt(t.exposed_area)"
      ],
      "execution_count": 73,
      "outputs": []
    },
    {
      "cell_type": "code",
      "metadata": {
        "id": "gl7hF2fEKs5J",
        "colab_type": "code",
        "colab": {}
      },
      "source": [
        "t.std_dev_malign=np.log1p(t.std_dev_malign)"
      ],
      "execution_count": 74,
      "outputs": []
    },
    {
      "cell_type": "code",
      "metadata": {
        "id": "FlEDD2MSKs2g",
        "colab_type": "code",
        "colab": {}
      },
      "source": [
        "t.malign_penalty=np.sqrt(t.malign_penalty)"
      ],
      "execution_count": 75,
      "outputs": []
    },
    {
      "cell_type": "markdown",
      "metadata": {
        "id": "TsBl2hE5BAEK",
        "colab_type": "text"
      },
      "source": [
        "## Dropping features with high corr"
      ]
    },
    {
      "cell_type": "code",
      "metadata": {
        "id": "Xqqr-QyL_TvJ",
        "colab_type": "code",
        "colab": {}
      },
      "source": [
        "t.drop(\"size_npear\",axis=1,inplace=True)"
      ],
      "execution_count": 76,
      "outputs": []
    },
    {
      "cell_type": "markdown",
      "metadata": {
        "id": "lp2Bk0MHNqzd",
        "colab_type": "text"
      },
      "source": [
        "## FEATURE ENGINEERING"
      ]
    },
    {
      "cell_type": "code",
      "metadata": {
        "id": "yAe7O-oNORp0",
        "colab_type": "code",
        "colab": {}
      },
      "source": [
        "t[\"p/e\"]=t.malign_penalty/t.err_malign"
      ],
      "execution_count": 95,
      "outputs": []
    },
    {
      "cell_type": "code",
      "metadata": {
        "id": "zPC7ySzJDchy",
        "colab_type": "code",
        "colab": {}
      },
      "source": [
        "t[\"mass/exposed_area\"]=(t.mass_npea/t.exposed_area)"
      ],
      "execution_count": 96,
      "outputs": []
    },
    {
      "cell_type": "code",
      "metadata": {
        "id": "_yB0loW0NDYO",
        "colab_type": "code",
        "colab": {}
      },
      "source": [
        "t[\"mass/std\"]=t.mass_npea/t.std_dev_malign"
      ],
      "execution_count": 97,
      "outputs": []
    },
    {
      "cell_type": "code",
      "metadata": {
        "id": "LJ4b3DvrNts4",
        "colab_type": "code",
        "colab": {}
      },
      "source": [
        "t[\"error/std\"]=t.err_malign/t.std_dev_malign"
      ],
      "execution_count": 98,
      "outputs": []
    },
    {
      "cell_type": "code",
      "metadata": {
        "id": "zVXmA57C5oqH",
        "colab_type": "code",
        "colab": {}
      },
      "source": [
        "t[\"m/a*s\"]=t[\"mass/exposed_area\"]*t.damage_size"
      ],
      "execution_count": 99,
      "outputs": []
    },
    {
      "cell_type": "code",
      "metadata": {
        "id": "hWouvGzsCdIS",
        "colab_type": "code",
        "colab": {}
      },
      "source": [
        "t[\"m/a_sqrt\"]=np.sqrt(t[\"mass/exposed_area\"])"
      ],
      "execution_count": 100,
      "outputs": []
    },
    {
      "cell_type": "code",
      "metadata": {
        "id": "t5iirl64CeIW",
        "colab_type": "code",
        "colab": {}
      },
      "source": [
        "t[\"error-penalty\"]=t.damage_ratio-t.malign_ratio"
      ],
      "execution_count": 101,
      "outputs": []
    },
    {
      "cell_type": "code",
      "metadata": {
        "id": "9Vqr28zMBwy4",
        "colab_type": "code",
        "colab": {}
      },
      "source": [
        "t[\"FE1\"]=t[\"mass/exposed_area\"]*t[\"p/e\"]"
      ],
      "execution_count": 102,
      "outputs": []
    },
    {
      "cell_type": "code",
      "metadata": {
        "id": "V9FgQxjw9COz",
        "colab_type": "code",
        "colab": {}
      },
      "source": [
        "t[\"FE2\"]=t[\"mass/exposed_area\"]*t[\"mass/std\"]"
      ],
      "execution_count": 103,
      "outputs": []
    },
    {
      "cell_type": "code",
      "metadata": {
        "id": "a1ixmW-0yvNn",
        "colab_type": "code",
        "colab": {}
      },
      "source": [
        "t[\"FE3\"]=t.malign_ratio+t.std_dev_malign"
      ],
      "execution_count": 104,
      "outputs": []
    },
    {
      "cell_type": "code",
      "metadata": {
        "id": "2O9U6GbQzfnA",
        "colab_type": "code",
        "colab": {}
      },
      "source": [
        "t[\"FE4\"]=t.damage_ratio-t.std_dev_malign"
      ],
      "execution_count": 105,
      "outputs": []
    },
    {
      "cell_type": "code",
      "metadata": {
        "id": "tzN2ao_b5_4o",
        "colab_type": "code",
        "colab": {}
      },
      "source": [
        "t[\"FE5\"]=t[\"m/a*s\"]-t.malign_ratio"
      ],
      "execution_count": 106,
      "outputs": []
    },
    {
      "cell_type": "code",
      "metadata": {
        "id": "Iknh4uJ2NqKc",
        "colab_type": "code",
        "colab": {
          "base_uri": "https://localhost:8080/",
          "height": 173
        },
        "outputId": "c0bce9f6-e12b-4f2e-bdbb-bc3e435a39d6"
      },
      "source": [
        "t.head(3)"
      ],
      "execution_count": 107,
      "outputs": [
        {
          "output_type": "execute_result",
          "data": {
            "text/html": [
              "<div>\n",
              "<style scoped>\n",
              "    .dataframe tbody tr th:only-of-type {\n",
              "        vertical-align: middle;\n",
              "    }\n",
              "\n",
              "    .dataframe tbody tr th {\n",
              "        vertical-align: top;\n",
              "    }\n",
              "\n",
              "    .dataframe thead th {\n",
              "        text-align: right;\n",
              "    }\n",
              "</style>\n",
              "<table border=\"1\" class=\"dataframe\">\n",
              "  <thead>\n",
              "    <tr style=\"text-align: right;\">\n",
              "      <th></th>\n",
              "      <th>mass_npea</th>\n",
              "      <th>malign_ratio</th>\n",
              "      <th>damage_size</th>\n",
              "      <th>exposed_area</th>\n",
              "      <th>std_dev_malign</th>\n",
              "      <th>err_malign</th>\n",
              "      <th>malign_penalty</th>\n",
              "      <th>damage_ratio</th>\n",
              "      <th>p/e</th>\n",
              "      <th>mass/exposed_area</th>\n",
              "      <th>mass/std</th>\n",
              "      <th>error/std</th>\n",
              "      <th>m/a*s</th>\n",
              "      <th>m/a_sqrt</th>\n",
              "      <th>error-penalty</th>\n",
              "      <th>FE1</th>\n",
              "      <th>FE3</th>\n",
              "      <th>FE4</th>\n",
              "      <th>FE5</th>\n",
              "      <th>FE2</th>\n",
              "    </tr>\n",
              "  </thead>\n",
              "  <tbody>\n",
              "    <tr>\n",
              "      <th>0</th>\n",
              "      <td>83.252027</td>\n",
              "      <td>0.351473</td>\n",
              "      <td>7.199292</td>\n",
              "      <td>994.399018</td>\n",
              "      <td>4.704898</td>\n",
              "      <td>2758.76</td>\n",
              "      <td>8.485281</td>\n",
              "      <td>39.3620</td>\n",
              "      <td>0.003076</td>\n",
              "      <td>0.083721</td>\n",
              "      <td>17.694758</td>\n",
              "      <td>586.359168</td>\n",
              "      <td>0.602732</td>\n",
              "      <td>0.289346</td>\n",
              "      <td>39.010527</td>\n",
              "      <td>0.000258</td>\n",
              "      <td>5.056371</td>\n",
              "      <td>34.657102</td>\n",
              "      <td>0.251258</td>\n",
              "      <td>1.481422</td>\n",
              "    </tr>\n",
              "    <tr>\n",
              "      <th>1</th>\n",
              "      <td>125.042793</td>\n",
              "      <td>0.271598</td>\n",
              "      <td>14.951589</td>\n",
              "      <td>1434.721681</td>\n",
              "      <td>5.520985</td>\n",
              "      <td>5952.53</td>\n",
              "      <td>15.491933</td>\n",
              "      <td>22.0253</td>\n",
              "      <td>0.002603</td>\n",
              "      <td>0.087155</td>\n",
              "      <td>22.648639</td>\n",
              "      <td>1078.164532</td>\n",
              "      <td>1.303102</td>\n",
              "      <td>0.295220</td>\n",
              "      <td>21.753702</td>\n",
              "      <td>0.000227</td>\n",
              "      <td>5.792583</td>\n",
              "      <td>16.504315</td>\n",
              "      <td>1.031503</td>\n",
              "      <td>1.973936</td>\n",
              "    </tr>\n",
              "    <tr>\n",
              "      <th>2</th>\n",
              "      <td>101.863634</td>\n",
              "      <td>0.224670</td>\n",
              "      <td>11.284370</td>\n",
              "      <td>1197.779654</td>\n",
              "      <td>5.081982</td>\n",
              "      <td>4635.26</td>\n",
              "      <td>8.544004</td>\n",
              "      <td>29.9963</td>\n",
              "      <td>0.001843</td>\n",
              "      <td>0.085044</td>\n",
              "      <td>20.044077</td>\n",
              "      <td>912.096924</td>\n",
              "      <td>0.959665</td>\n",
              "      <td>0.291623</td>\n",
              "      <td>29.771630</td>\n",
              "      <td>0.000157</td>\n",
              "      <td>5.306652</td>\n",
              "      <td>24.914318</td>\n",
              "      <td>0.734994</td>\n",
              "      <td>1.704623</td>\n",
              "    </tr>\n",
              "  </tbody>\n",
              "</table>\n",
              "</div>"
            ],
            "text/plain": [
              "    mass_npea  malign_ratio  damage_size  ...        FE4       FE5       FE2\n",
              "0   83.252027      0.351473     7.199292  ...  34.657102  0.251258  1.481422\n",
              "1  125.042793      0.271598    14.951589  ...  16.504315  1.031503  1.973936\n",
              "2  101.863634      0.224670    11.284370  ...  24.914318  0.734994  1.704623\n",
              "\n",
              "[3 rows x 20 columns]"
            ]
          },
          "metadata": {
            "tags": []
          },
          "execution_count": 107
        }
      ]
    },
    {
      "cell_type": "code",
      "metadata": {
        "id": "kPx_67eLL8V2",
        "colab_type": "code",
        "colab": {
          "base_uri": "https://localhost:8080/",
          "height": 34
        },
        "outputId": "bc8d71ab-7b6f-407b-866c-30696ada02b0"
      },
      "source": [
        "t.shape, train.shape , test.shape , target.shape"
      ],
      "execution_count": 108,
      "outputs": [
        {
          "output_type": "execute_result",
          "data": {
            "text/plain": [
              "((45730, 20), (9146, 9), (36584, 9), (9146,))"
            ]
          },
          "metadata": {
            "tags": []
          },
          "execution_count": 108
        }
      ]
    },
    {
      "cell_type": "code",
      "metadata": {
        "id": "4mFyuyA8L8Tb",
        "colab_type": "code",
        "colab": {}
      },
      "source": [
        "#data splitting\n",
        "trn=t[0:9146]\n",
        "tst=t[9146:]"
      ],
      "execution_count": 64,
      "outputs": []
    },
    {
      "cell_type": "markdown",
      "metadata": {
        "id": "2V-_adcHJ65r",
        "colab_type": "text"
      },
      "source": [
        "### ENSEMBLING"
      ]
    },
    {
      "cell_type": "code",
      "metadata": {
        "id": "X4KAo2gtiG17",
        "colab_type": "code",
        "colab": {}
      },
      "source": [
        "from sklearn.ensemble import StackingRegressor\n",
        "from sklearn.ensemble import ExtraTreesRegressor\n",
        "from lightgbm import LGBMRegressor\n",
        "\n",
        "bag=BaggingRegressor(n_estimators=150,max_features=13)\n",
        "lgb=LGBMRegressor(n_estimators=900,num_leaves=48,reg_lambda=50,reg_alpha=20)\n",
        "etc=ExtraTreesRegressor(n_estimators=400,max_depth=26,min_samples_split=2,max_features=10)"
      ],
      "execution_count": 66,
      "outputs": []
    },
    {
      "cell_type": "code",
      "metadata": {
        "id": "1TA1mirVPeXs",
        "colab_type": "code",
        "colab": {
          "base_uri": "https://localhost:8080/",
          "height": 114
        },
        "outputId": "676f10ab-3e42-48eb-e4a5-eccf06e02b11"
      },
      "source": [
        "tst.loc[tst[\"err_malign\"] == 0.0]"
      ],
      "execution_count": 66,
      "outputs": [
        {
          "output_type": "execute_result",
          "data": {
            "text/html": [
              "<div>\n",
              "<style scoped>\n",
              "    .dataframe tbody tr th:only-of-type {\n",
              "        vertical-align: middle;\n",
              "    }\n",
              "\n",
              "    .dataframe tbody tr th {\n",
              "        vertical-align: top;\n",
              "    }\n",
              "\n",
              "    .dataframe thead th {\n",
              "        text-align: right;\n",
              "    }\n",
              "</style>\n",
              "<table border=\"1\" class=\"dataframe\">\n",
              "  <thead>\n",
              "    <tr style=\"text-align: right;\">\n",
              "      <th></th>\n",
              "      <th>mass_npea</th>\n",
              "      <th>malign_ratio</th>\n",
              "      <th>damage_size</th>\n",
              "      <th>exposed_area</th>\n",
              "      <th>std_dev_malign</th>\n",
              "      <th>err_malign</th>\n",
              "      <th>malign_penalty</th>\n",
              "      <th>damage_ratio</th>\n",
              "      <th>p/e</th>\n",
              "      <th>mass/exposed_area</th>\n",
              "      <th>mass/std</th>\n",
              "      <th>error/std</th>\n",
              "      <th>FE3</th>\n",
              "      <th>m/a*s</th>\n",
              "      <th>m/a_sqrt</th>\n",
              "      <th>FE1</th>\n",
              "      <th>error-penalty</th>\n",
              "      <th>FE4</th>\n",
              "      <th>FE5</th>\n",
              "    </tr>\n",
              "  </thead>\n",
              "  <tbody>\n",
              "    <tr>\n",
              "      <th>9526</th>\n",
              "      <td>129.032554</td>\n",
              "      <td>0.315446</td>\n",
              "      <td>13.467516</td>\n",
              "      <td>1499.067596</td>\n",
              "      <td>5.555596</td>\n",
              "      <td>0.0</td>\n",
              "      <td>11.532563</td>\n",
              "      <td>25.3804</td>\n",
              "      <td>inf</td>\n",
              "      <td>0.086075</td>\n",
              "      <td>23.225692</td>\n",
              "      <td>0.0</td>\n",
              "      <td>5.871041</td>\n",
              "      <td>1.159219</td>\n",
              "      <td>0.293386</td>\n",
              "      <td>inf</td>\n",
              "      <td>25.064954</td>\n",
              "      <td>19.824804</td>\n",
              "      <td>0.843774</td>\n",
              "    </tr>\n",
              "  </tbody>\n",
              "</table>\n",
              "</div>"
            ],
            "text/plain": [
              "       mass_npea  malign_ratio  damage_size  ...  error-penalty        FE4       FE5\n",
              "9526  129.032554      0.315446    13.467516  ...      25.064954  19.824804  0.843774\n",
              "\n",
              "[1 rows x 19 columns]"
            ]
          },
          "metadata": {
            "tags": []
          },
          "execution_count": 66
        }
      ]
    },
    {
      "cell_type": "code",
      "metadata": {
        "id": "nnTNAJMGQUiE",
        "colab_type": "code",
        "colab": {}
      },
      "source": [
        "tst[\"p/e\"][9526]=-1\n",
        "tst[\"FE1\"][9526]=-1"
      ],
      "execution_count": null,
      "outputs": []
    },
    {
      "cell_type": "code",
      "metadata": {
        "id": "ABzpC1IRiGzk",
        "colab_type": "code",
        "colab": {}
      },
      "source": [
        "estimators=[(\"bag\",bag),(\"lgb\",lgb),(\"etc\",etc)]"
      ],
      "execution_count": 81,
      "outputs": []
    },
    {
      "cell_type": "code",
      "metadata": {
        "id": "wS365e9fiGwz",
        "colab_type": "code",
        "colab": {}
      },
      "source": [
        "reg = StackingRegressor(estimators=estimators)"
      ],
      "execution_count": 82,
      "outputs": []
    },
    {
      "cell_type": "code",
      "metadata": {
        "id": "rR7L5N5pi3m0",
        "colab_type": "code",
        "colab": {
          "base_uri": "https://localhost:8080/",
          "height": 34
        },
        "outputId": "1cbce4fc-10b0-489b-fc0e-eb71d79f8a78"
      },
      "source": [
        "scores=cross_val_score(reg, trn,target, cv = 5, scoring = \"neg_root_mean_squared_error\")\n",
        "scores.mean()"
      ],
      "execution_count": 83,
      "outputs": [
        {
          "output_type": "execute_result",
          "data": {
            "text/plain": [
              "-3.5683411224625345"
            ]
          },
          "metadata": {
            "tags": []
          },
          "execution_count": 83
        }
      ]
    },
    {
      "cell_type": "code",
      "metadata": {
        "id": "VlyQ1t8kGYaZ",
        "colab_type": "code",
        "colab": {}
      },
      "source": [
        "reg.fit(trn,target)\n",
        "pre=reg.predict(tst)\n",
        "sub[\"tumor_size\"]=pre\n",
        "sub.to_csv(\"sub_02.csv\",index=False)"
      ],
      "execution_count": 91,
      "outputs": []
    }
  ]
}